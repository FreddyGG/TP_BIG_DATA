{
  "nbformat": 4,
  "nbformat_minor": 0,
  "metadata": {
    "colab": {
      "name": "Trabajo Práctico de Big Data.ipynb",
      "provenance": [],
      "authorship_tag": "ABX9TyOlmUAJQPoIhIsuxwPVY5hi",
      "include_colab_link": true
    },
    "kernelspec": {
      "name": "python3",
      "display_name": "Python 3"
    },
    "language_info": {
      "name": "python"
    }
  },
  "cells": [
    {
      "cell_type": "markdown",
      "metadata": {
        "id": "view-in-github",
        "colab_type": "text"
      },
      "source": [
        "<a href=\"https://colab.research.google.com/github/FreddyGG/TP_BIG_DATA/blob/main/Trabajo_Pr%C3%A1ctico_de_Big_Data.ipynb\" target=\"_parent\"><img src=\"https://colab.research.google.com/assets/colab-badge.svg\" alt=\"Open In Colab\"/></a>"
      ]
    },
    {
      "cell_type": "markdown",
      "metadata": {
        "id": "TEJLZLCLpTem"
      },
      "source": [
        "# **COMPONENTE 1**"
      ]
    },
    {
      "cell_type": "markdown",
      "metadata": {
        "id": "31YkkBvwpEg4"
      },
      "source": [
        "Como paso inicial del proyecto de big data, el alumno escribir un script que permita obtener una\n",
        "lista de las últimas menciones de un handle o hashtag en Twitter a través de su API. Este\n",
        "programa en Python deberá luego guardar los tweets en un archivo .csv para su posterior\n",
        "análisis.\n",
        "El archivo de salida deberá contener mínimamente: Texto del tweet, Autor, Timestamp, Número de Favs, Número de RTs"
      ]
    },
    {
      "cell_type": "code",
      "metadata": {
        "id": "AVcF-00axZJg",
        "colab": {
          "base_uri": "https://localhost:8080/"
        },
        "outputId": "36e5228d-0ca8-4f87-e360-90e1e956e165"
      },
      "source": [
        "import nltk\n",
        "nltk.download('vader_lexicon')"
      ],
      "execution_count": 1,
      "outputs": [
        {
          "output_type": "stream",
          "text": [
            "[nltk_data] Downloading package vader_lexicon to /root/nltk_data...\n"
          ],
          "name": "stdout"
        },
        {
          "output_type": "execute_result",
          "data": {
            "text/plain": [
              "True"
            ]
          },
          "metadata": {
            "tags": []
          },
          "execution_count": 1
        }
      ]
    },
    {
      "cell_type": "code",
      "metadata": {
        "id": "Ti6qcGljY_Wv",
        "colab": {
          "base_uri": "https://localhost:8080/"
        },
        "outputId": "bcd09868-3ad6-4718-e198-1b7aee913b93"
      },
      "source": [
        "!pip install langdetect"
      ],
      "execution_count": 2,
      "outputs": [
        {
          "output_type": "stream",
          "text": [
            "Collecting langdetect\n",
            "\u001b[?25l  Downloading https://files.pythonhosted.org/packages/0e/72/a3add0e4eec4eb9e2569554f7c70f4a3c27712f40e3284d483e88094cc0e/langdetect-1.0.9.tar.gz (981kB)\n",
            "\r\u001b[K     |▍                               | 10kB 16.9MB/s eta 0:00:01\r\u001b[K     |▊                               | 20kB 21.4MB/s eta 0:00:01\r\u001b[K     |█                               | 30kB 26.3MB/s eta 0:00:01\r\u001b[K     |█▍                              | 40kB 29.8MB/s eta 0:00:01\r\u001b[K     |█▊                              | 51kB 21.2MB/s eta 0:00:01\r\u001b[K     |██                              | 61kB 23.5MB/s eta 0:00:01\r\u001b[K     |██▍                             | 71kB 21.2MB/s eta 0:00:01\r\u001b[K     |██▊                             | 81kB 20.1MB/s eta 0:00:01\r\u001b[K     |███                             | 92kB 18.7MB/s eta 0:00:01\r\u001b[K     |███▍                            | 102kB 20.0MB/s eta 0:00:01\r\u001b[K     |███▊                            | 112kB 20.0MB/s eta 0:00:01\r\u001b[K     |████                            | 122kB 20.0MB/s eta 0:00:01\r\u001b[K     |████▍                           | 133kB 20.0MB/s eta 0:00:01\r\u001b[K     |████▊                           | 143kB 20.0MB/s eta 0:00:01\r\u001b[K     |█████                           | 153kB 20.0MB/s eta 0:00:01\r\u001b[K     |█████▍                          | 163kB 20.0MB/s eta 0:00:01\r\u001b[K     |█████▊                          | 174kB 20.0MB/s eta 0:00:01\r\u001b[K     |██████                          | 184kB 20.0MB/s eta 0:00:01\r\u001b[K     |██████▍                         | 194kB 20.0MB/s eta 0:00:01\r\u001b[K     |██████▊                         | 204kB 20.0MB/s eta 0:00:01\r\u001b[K     |███████                         | 215kB 20.0MB/s eta 0:00:01\r\u001b[K     |███████▍                        | 225kB 20.0MB/s eta 0:00:01\r\u001b[K     |███████▊                        | 235kB 20.0MB/s eta 0:00:01\r\u001b[K     |████████                        | 245kB 20.0MB/s eta 0:00:01\r\u001b[K     |████████▍                       | 256kB 20.0MB/s eta 0:00:01\r\u001b[K     |████████▊                       | 266kB 20.0MB/s eta 0:00:01\r\u001b[K     |█████████                       | 276kB 20.0MB/s eta 0:00:01\r\u001b[K     |█████████▍                      | 286kB 20.0MB/s eta 0:00:01\r\u001b[K     |█████████▊                      | 296kB 20.0MB/s eta 0:00:01\r\u001b[K     |██████████                      | 307kB 20.0MB/s eta 0:00:01\r\u001b[K     |██████████▍                     | 317kB 20.0MB/s eta 0:00:01\r\u001b[K     |██████████▊                     | 327kB 20.0MB/s eta 0:00:01\r\u001b[K     |███████████                     | 337kB 20.0MB/s eta 0:00:01\r\u001b[K     |███████████▍                    | 348kB 20.0MB/s eta 0:00:01\r\u001b[K     |███████████▊                    | 358kB 20.0MB/s eta 0:00:01\r\u001b[K     |████████████                    | 368kB 20.0MB/s eta 0:00:01\r\u001b[K     |████████████▍                   | 378kB 20.0MB/s eta 0:00:01\r\u001b[K     |████████████▊                   | 389kB 20.0MB/s eta 0:00:01\r\u001b[K     |█████████████                   | 399kB 20.0MB/s eta 0:00:01\r\u001b[K     |█████████████▍                  | 409kB 20.0MB/s eta 0:00:01\r\u001b[K     |█████████████▊                  | 419kB 20.0MB/s eta 0:00:01\r\u001b[K     |██████████████                  | 430kB 20.0MB/s eta 0:00:01\r\u001b[K     |██████████████▍                 | 440kB 20.0MB/s eta 0:00:01\r\u001b[K     |██████████████▊                 | 450kB 20.0MB/s eta 0:00:01\r\u001b[K     |███████████████                 | 460kB 20.0MB/s eta 0:00:01\r\u001b[K     |███████████████▍                | 471kB 20.0MB/s eta 0:00:01\r\u001b[K     |███████████████▊                | 481kB 20.0MB/s eta 0:00:01\r\u001b[K     |████████████████                | 491kB 20.0MB/s eta 0:00:01\r\u001b[K     |████████████████▍               | 501kB 20.0MB/s eta 0:00:01\r\u001b[K     |████████████████▊               | 512kB 20.0MB/s eta 0:00:01\r\u001b[K     |█████████████████               | 522kB 20.0MB/s eta 0:00:01\r\u001b[K     |█████████████████▍              | 532kB 20.0MB/s eta 0:00:01\r\u001b[K     |█████████████████▊              | 542kB 20.0MB/s eta 0:00:01\r\u001b[K     |██████████████████              | 552kB 20.0MB/s eta 0:00:01\r\u001b[K     |██████████████████▍             | 563kB 20.0MB/s eta 0:00:01\r\u001b[K     |██████████████████▊             | 573kB 20.0MB/s eta 0:00:01\r\u001b[K     |███████████████████             | 583kB 20.0MB/s eta 0:00:01\r\u001b[K     |███████████████████▍            | 593kB 20.0MB/s eta 0:00:01\r\u001b[K     |███████████████████▊            | 604kB 20.0MB/s eta 0:00:01\r\u001b[K     |████████████████████            | 614kB 20.0MB/s eta 0:00:01\r\u001b[K     |████████████████████▍           | 624kB 20.0MB/s eta 0:00:01\r\u001b[K     |████████████████████▊           | 634kB 20.0MB/s eta 0:00:01\r\u001b[K     |█████████████████████           | 645kB 20.0MB/s eta 0:00:01\r\u001b[K     |█████████████████████▍          | 655kB 20.0MB/s eta 0:00:01\r\u001b[K     |█████████████████████▊          | 665kB 20.0MB/s eta 0:00:01\r\u001b[K     |██████████████████████          | 675kB 20.0MB/s eta 0:00:01\r\u001b[K     |██████████████████████▍         | 686kB 20.0MB/s eta 0:00:01\r\u001b[K     |██████████████████████▊         | 696kB 20.0MB/s eta 0:00:01\r\u001b[K     |███████████████████████         | 706kB 20.0MB/s eta 0:00:01\r\u001b[K     |███████████████████████▍        | 716kB 20.0MB/s eta 0:00:01\r\u001b[K     |███████████████████████▊        | 727kB 20.0MB/s eta 0:00:01\r\u001b[K     |████████████████████████        | 737kB 20.0MB/s eta 0:00:01\r\u001b[K     |████████████████████████▍       | 747kB 20.0MB/s eta 0:00:01\r\u001b[K     |████████████████████████▊       | 757kB 20.0MB/s eta 0:00:01\r\u001b[K     |█████████████████████████       | 768kB 20.0MB/s eta 0:00:01\r\u001b[K     |█████████████████████████▍      | 778kB 20.0MB/s eta 0:00:01\r\u001b[K     |█████████████████████████▊      | 788kB 20.0MB/s eta 0:00:01\r\u001b[K     |██████████████████████████      | 798kB 20.0MB/s eta 0:00:01\r\u001b[K     |██████████████████████████▍     | 808kB 20.0MB/s eta 0:00:01\r\u001b[K     |██████████████████████████▊     | 819kB 20.0MB/s eta 0:00:01\r\u001b[K     |███████████████████████████     | 829kB 20.0MB/s eta 0:00:01\r\u001b[K     |███████████████████████████▍    | 839kB 20.0MB/s eta 0:00:01\r\u001b[K     |███████████████████████████▊    | 849kB 20.0MB/s eta 0:00:01\r\u001b[K     |████████████████████████████    | 860kB 20.0MB/s eta 0:00:01\r\u001b[K     |████████████████████████████▍   | 870kB 20.0MB/s eta 0:00:01\r\u001b[K     |████████████████████████████▊   | 880kB 20.0MB/s eta 0:00:01\r\u001b[K     |█████████████████████████████   | 890kB 20.0MB/s eta 0:00:01\r\u001b[K     |█████████████████████████████▍  | 901kB 20.0MB/s eta 0:00:01\r\u001b[K     |█████████████████████████████▊  | 911kB 20.0MB/s eta 0:00:01\r\u001b[K     |██████████████████████████████  | 921kB 20.0MB/s eta 0:00:01\r\u001b[K     |██████████████████████████████▍ | 931kB 20.0MB/s eta 0:00:01\r\u001b[K     |██████████████████████████████▊ | 942kB 20.0MB/s eta 0:00:01\r\u001b[K     |███████████████████████████████ | 952kB 20.0MB/s eta 0:00:01\r\u001b[K     |███████████████████████████████▍| 962kB 20.0MB/s eta 0:00:01\r\u001b[K     |███████████████████████████████▊| 972kB 20.0MB/s eta 0:00:01\r\u001b[K     |████████████████████████████████| 983kB 20.0MB/s \n",
            "\u001b[?25hRequirement already satisfied: six in /usr/local/lib/python3.7/dist-packages (from langdetect) (1.15.0)\n",
            "Building wheels for collected packages: langdetect\n",
            "  Building wheel for langdetect (setup.py) ... \u001b[?25l\u001b[?25hdone\n",
            "  Created wheel for langdetect: filename=langdetect-1.0.9-cp37-none-any.whl size=993242 sha256=250d41d303e1d43fb53f77309f99a1dcfb151b0b4c15151efb790bff64882368\n",
            "  Stored in directory: /root/.cache/pip/wheels/7e/18/13/038c34057808931c7ddc6c92d3aa015cf1a498df5a70268996\n",
            "Successfully built langdetect\n",
            "Installing collected packages: langdetect\n",
            "Successfully installed langdetect-1.0.9\n"
          ],
          "name": "stdout"
        }
      ]
    },
    {
      "cell_type": "code",
      "metadata": {
        "id": "gIbs1g_zZBZ9",
        "colab": {
          "base_uri": "https://localhost:8080/"
        },
        "outputId": "65290c4c-e973-49f2-cb10-5ea83e0b9570"
      },
      "source": [
        "#importamos librerias\n",
        "import tweepy\n",
        "from textblob import TextBlob\n",
        "from wordcloud import WordCloud, STOPWORDS\n",
        "import pandas as pd\n",
        "import numpy as np\n",
        "import re\n",
        "import matplotlib.pyplot as plt\n",
        "plt.style.use('fivethirtyeight')\n",
        "import datetime\n",
        "from nltk.sentiment.vader import SentimentIntensityAnalyzer\n",
        "from nltk.sentiment.vader import SentimentIntensityAnalyzer\n",
        "from nltk.stem import SnowballStemmer\n",
        "nltk.download('stopwords')\n",
        "from nltk.corpus import stopwords\n",
        "stopwords = set(stopwords.words('spanish'))\n",
        "from sklearn.feature_extraction.text import CountVectorizer\n",
        "from langdetect import detect"
      ],
      "execution_count": 3,
      "outputs": [
        {
          "output_type": "stream",
          "text": [
            "[nltk_data] Downloading package stopwords to /root/nltk_data...\n",
            "[nltk_data]   Unzipping corpora/stopwords.zip.\n"
          ],
          "name": "stdout"
        },
        {
          "output_type": "stream",
          "text": [
            "/usr/local/lib/python3.7/dist-packages/nltk/twitter/__init__.py:20: UserWarning: The twython library has not been installed. Some functionality from the twitter package will not be available.\n",
            "  warnings.warn(\"The twython library has not been installed. \"\n"
          ],
          "name": "stderr"
        }
      ]
    },
    {
      "cell_type": "code",
      "metadata": {
        "id": "BIEcObw6ZCI9"
      },
      "source": [
        "# Twitter Api Credentials\n",
        "consumerKey = 'ogYNVLjPL8ygj4PO6vIyYVxyP'#log[\"key\"][0]\n",
        "consumerSecret = 'fS8uxKMb2hZ4GOpey1Y6AsbWDeQCIA9srJRetzCo9cAMAM6AbZ'#log[\"key\"][1]\n",
        "accessToken = '175984347-syxFReYiggzkhkr0gz5bKX4Asi5S91eNXKU0iIbV'#log[\"key\"][2]\n",
        "accessTokenSecret = '1LhUQr7jCEDxZ0BBQSs9TK2VaXiZq08f2pKMMoBPq1GkJ'#log[\"key\"][3]"
      ],
      "execution_count": 4,
      "outputs": []
    },
    {
      "cell_type": "code",
      "metadata": {
        "id": "tjfkHBabZFKo"
      },
      "source": [
        "#creamos un objeto de autenticacion\n",
        "authenticate = tweepy.OAuthHandler(consumerKey, consumerSecret) \n",
        "    \n",
        "# Seteamos el access token y access token secret\n",
        "authenticate.set_access_token(accessToken, accessTokenSecret) \n",
        "\n",
        "#Creamos el objeto API mientras parseamos la informacion en auth  \n",
        "api = tweepy.API(authenticate, wait_on_rate_limit = True)"
      ],
      "execution_count": 5,
      "outputs": []
    },
    {
      "cell_type": "code",
      "metadata": {
        "colab": {
          "base_uri": "https://localhost:8080/"
        },
        "id": "ieLQN-tmf8Wb",
        "outputId": "3bfef626-686e-44e9-a74e-76e21944560b"
      },
      "source": [
        "#Pedimos que ingrese los tweets a buscar\n",
        "print('Analizar Sentimientos de Tweets\n",
        "')\n",
        "keyword = input(\"Ingrese el hastag o keyword que desea buscar: \")\n",
        "nroTweet = int(input(\"Ingrese cuantos tweets desea buscar: \"))\n",
        "\n",
        "list = tweepy.Cursor(api.search, q=keyword ,tweet_mode='extended', lang='es').items(nroTweet)"
      ],
      "execution_count": 18,
      "outputs": [
        {
          "output_type": "stream",
          "text": [
            "Analizar Sentimientos de Tweets\n",
            "Ingrese el hastag o keyword que desea buscar: Paraguay\n",
            "Ingrese cuantos tweets desea buscar: 100\n"
          ],
          "name": "stdout"
        }
      ]
    },
    {
      "cell_type": "code",
      "metadata": {
        "id": "5wvbKIOhgQuM"
      },
      "source": [
        "#Almacenamos los tweets en una lista\n",
        "tweet_list = []\n",
        "for tweet in list:\n",
        "    text = tweet._json[\"full_text\"]\n",
        "    #print(text)\n",
        "    favourite_count = tweet.favorite_count\n",
        "    retweet_count = tweet.retweet_count\n",
        "    created_at = tweet.created_at\n",
        "    author = tweet.author.name\n",
        "    \n",
        "    line = {'text' : text, 'author' : author, 'favourite_count' : favourite_count, 'retweet_count' : retweet_count, 'created_at' : created_at}\n",
        "    tweet_list.append(line)"
      ],
      "execution_count": 19,
      "outputs": []
    },
    {
      "cell_type": "code",
      "metadata": {
        "id": "t7IaOdkigpG5"
      },
      "source": [
        "#Convertimos la lista a un DataFrame\n",
        "dfTweets = pd.DataFrame(tweet_list)\n",
        "\n",
        "#Seteamos la funcion para limpiar los tweets\n",
        "def cleanTxt(text):\n",
        " text = re.sub('@[A-Za-z0–9]+', '', text) #Removing @mentions\n",
        " text = re.sub('#', '', text) # Removing '#' hash tag\n",
        " text = re.sub('RT[\\s]+', '', text) # Removing RT\n",
        " text = re.sub('https?:\\/\\/\\S+', '', text) # Removing hyperlink\n",
        " \n",
        " return text\n",
        "\n",
        "#Limpiamos los tweets y renombramos las columnas\n",
        "dfTweets = dfTweets.rename(columns={'text': 'Tweets', 'author': 'Author', 'favourite_count': 'Favourites', 'retweet_count': 'Retweets', 'created_at': 'Date'})\n",
        "dfTweets['Tweets'] = dfTweets['Tweets'].apply(cleanTxt)\n",
        "\n",
        "#Creamos el archivo csv\n",
        "dfTweets.to_csv('tweets.csv')"
      ],
      "execution_count": 20,
      "outputs": []
    },
    {
      "cell_type": "code",
      "metadata": {
        "colab": {
          "base_uri": "https://localhost:8080/",
          "height": 417
        },
        "id": "oCh5tOFWkJDq",
        "outputId": "dc74651e-3d88-4ab1-d0a8-aebb6f6782cc"
      },
      "source": [
        "dfTweets"
      ],
      "execution_count": 21,
      "outputs": [
        {
          "output_type": "execute_result",
          "data": {
            "text/html": [
              "<div>\n",
              "<style scoped>\n",
              "    .dataframe tbody tr th:only-of-type {\n",
              "        vertical-align: middle;\n",
              "    }\n",
              "\n",
              "    .dataframe tbody tr th {\n",
              "        vertical-align: top;\n",
              "    }\n",
              "\n",
              "    .dataframe thead th {\n",
              "        text-align: right;\n",
              "    }\n",
              "</style>\n",
              "<table border=\"1\" class=\"dataframe\">\n",
              "  <thead>\n",
              "    <tr style=\"text-align: right;\">\n",
              "      <th></th>\n",
              "      <th>Tweets</th>\n",
              "      <th>Author</th>\n",
              "      <th>Favourites</th>\n",
              "      <th>Retweets</th>\n",
              "      <th>Date</th>\n",
              "    </tr>\n",
              "  </thead>\n",
              "  <tbody>\n",
              "    <tr>\n",
              "      <th>0</th>\n",
              "      <td>: Cifra que alarma 💧 | El río Paraná continúa ...</td>\n",
              "      <td>ramon carcilio</td>\n",
              "      <td>0</td>\n",
              "      <td>5</td>\n",
              "      <td>2021-06-23 17:20:18</td>\n",
              "    </tr>\n",
              "    <tr>\n",
              "      <th>1</th>\n",
              "      <td>Una universidad de Paraguay aceptará pagos en ...</td>\n",
              "      <td>WAYDN</td>\n",
              "      <td>0</td>\n",
              "      <td>0</td>\n",
              "      <td>2021-06-23 17:20:14</td>\n",
              "    </tr>\n",
              "    <tr>\n",
              "      <th>2</th>\n",
              "      <td>_starship: [🪐] FNS | 🐣\\n\\n(una selca de) Días ...</td>\n",
              "      <td>เบลเซบับวันนี้ไม่รู้จะเป็นอะไรนึกไม่ออก</td>\n",
              "      <td>0</td>\n",
              "      <td>11</td>\n",
              "      <td>2021-06-23 17:20:11</td>\n",
              "    </tr>\n",
              "    <tr>\n",
              "      <th>3</th>\n",
              "      <td>★  ★  Una universidad de Paraguay aceptará pag...</td>\n",
              "      <td>MUNDO BITCOIN</td>\n",
              "      <td>0</td>\n",
              "      <td>0</td>\n",
              "      <td>2021-06-23 17:20:09</td>\n",
              "    </tr>\n",
              "    <tr>\n",
              "      <th>4</th>\n",
              "      <td>SANCIONADO I Proyecto de Ley, “QUE DECLARA EST...</td>\n",
              "      <td>Radio Cámara Py</td>\n",
              "      <td>0</td>\n",
              "      <td>0</td>\n",
              "      <td>2021-06-23 17:20:07</td>\n",
              "    </tr>\n",
              "    <tr>\n",
              "      <th>...</th>\n",
              "      <td>...</td>\n",
              "      <td>...</td>\n",
              "      <td>...</td>\n",
              "      <td>...</td>\n",
              "      <td>...</td>\n",
              "    </tr>\n",
              "    <tr>\n",
              "      <th>95</th>\n",
              "      <td>20: Se perdió Titan! Zona chango mas, entre Ch...</td>\n",
              "      <td>Marimar</td>\n",
              "      <td>0</td>\n",
              "      <td>14</td>\n",
              "      <td>2021-06-23 17:09:01</td>\n",
              "    </tr>\n",
              "    <tr>\n",
              "      <th>96</th>\n",
              "      <td>: Colecta de 3.500.000 para salvar el ojito de...</td>\n",
              "      <td>zuni</td>\n",
              "      <td>0</td>\n",
              "      <td>470</td>\n",
              "      <td>2021-06-23 17:08:59</td>\n",
              "    </tr>\n",
              "    <tr>\n",
              "      <th>97</th>\n",
              "      <td>\"Anthony, toca Riveros... Si bien hubo situaci...</td>\n",
              "      <td>¹⁰</td>\n",
              "      <td>1</td>\n",
              "      <td>0</td>\n",
              "      <td>2021-06-23 17:08:42</td>\n",
              "    </tr>\n",
              "    <tr>\n",
              "      <th>98</th>\n",
              "      <td>10: La gente no renuncia \"porque no quiere tra...</td>\n",
              "      <td>negrita</td>\n",
              "      <td>0</td>\n",
              "      <td>162</td>\n",
              "      <td>2021-06-23 17:08:37</td>\n",
              "    </tr>\n",
              "    <tr>\n",
              "      <th>99</th>\n",
              "      <td>: ¡Ya salieron los emparejamientos de la Copa ...</td>\n",
              "      <td>Gabriel Pettirossi 🇵🇾</td>\n",
              "      <td>0</td>\n",
              "      <td>38</td>\n",
              "      <td>2021-06-23 17:08:35</td>\n",
              "    </tr>\n",
              "  </tbody>\n",
              "</table>\n",
              "<p>100 rows × 5 columns</p>\n",
              "</div>"
            ],
            "text/plain": [
              "                                               Tweets  ...                Date\n",
              "0   : Cifra que alarma 💧 | El río Paraná continúa ...  ... 2021-06-23 17:20:18\n",
              "1   Una universidad de Paraguay aceptará pagos en ...  ... 2021-06-23 17:20:14\n",
              "2   _starship: [🪐] FNS | 🐣\\n\\n(una selca de) Días ...  ... 2021-06-23 17:20:11\n",
              "3   ★  ★  Una universidad de Paraguay aceptará pag...  ... 2021-06-23 17:20:09\n",
              "4   SANCIONADO I Proyecto de Ley, “QUE DECLARA EST...  ... 2021-06-23 17:20:07\n",
              "..                                                ...  ...                 ...\n",
              "95  20: Se perdió Titan! Zona chango mas, entre Ch...  ... 2021-06-23 17:09:01\n",
              "96  : Colecta de 3.500.000 para salvar el ojito de...  ... 2021-06-23 17:08:59\n",
              "97  \"Anthony, toca Riveros... Si bien hubo situaci...  ... 2021-06-23 17:08:42\n",
              "98  10: La gente no renuncia \"porque no quiere tra...  ... 2021-06-23 17:08:37\n",
              "99  : ¡Ya salieron los emparejamientos de la Copa ...  ... 2021-06-23 17:08:35\n",
              "\n",
              "[100 rows x 5 columns]"
            ]
          },
          "metadata": {
            "tags": []
          },
          "execution_count": 21
        }
      ]
    },
    {
      "cell_type": "markdown",
      "metadata": {
        "id": "zE94h3W3pjak"
      },
      "source": [
        "# **COMPONENTE 2**"
      ]
    },
    {
      "cell_type": "markdown",
      "metadata": {
        "id": "CNpb9BU3pnyu"
      },
      "source": [
        "El alumno deberá crear un script en Python que calcule el sentimiento de cada tweet y\n",
        "almacene los resultados en un archivo .csv. Además, se deberá calcular el sentimiento\n",
        "promedio relacionado a las menciones."
      ]
    },
    {
      "cell_type": "code",
      "metadata": {
        "id": "pgJSHLTeprwG"
      },
      "source": [
        "#creamos un data frame con unicamente los tweets\n",
        "tweets = pd.DataFrame(dfTweets['Tweets'])"
      ],
      "execution_count": 22,
      "outputs": []
    },
    {
      "cell_type": "code",
      "metadata": {
        "colab": {
          "base_uri": "https://localhost:8080/",
          "height": 203
        },
        "id": "-NFoPhRKqCCW",
        "outputId": "b2b43160-fb32-423d-e9de-1d730c33163a"
      },
      "source": [
        "tweets.head()"
      ],
      "execution_count": 23,
      "outputs": [
        {
          "output_type": "execute_result",
          "data": {
            "text/html": [
              "<div>\n",
              "<style scoped>\n",
              "    .dataframe tbody tr th:only-of-type {\n",
              "        vertical-align: middle;\n",
              "    }\n",
              "\n",
              "    .dataframe tbody tr th {\n",
              "        vertical-align: top;\n",
              "    }\n",
              "\n",
              "    .dataframe thead th {\n",
              "        text-align: right;\n",
              "    }\n",
              "</style>\n",
              "<table border=\"1\" class=\"dataframe\">\n",
              "  <thead>\n",
              "    <tr style=\"text-align: right;\">\n",
              "      <th></th>\n",
              "      <th>Tweets</th>\n",
              "    </tr>\n",
              "  </thead>\n",
              "  <tbody>\n",
              "    <tr>\n",
              "      <th>0</th>\n",
              "      <td>: Cifra que alarma 💧 | El río Paraná continúa ...</td>\n",
              "    </tr>\n",
              "    <tr>\n",
              "      <th>1</th>\n",
              "      <td>Una universidad de Paraguay aceptará pagos en ...</td>\n",
              "    </tr>\n",
              "    <tr>\n",
              "      <th>2</th>\n",
              "      <td>_starship: [🪐] FNS | 🐣\\n\\n(una selca de) Días ...</td>\n",
              "    </tr>\n",
              "    <tr>\n",
              "      <th>3</th>\n",
              "      <td>★  ★  Una universidad de Paraguay aceptará pag...</td>\n",
              "    </tr>\n",
              "    <tr>\n",
              "      <th>4</th>\n",
              "      <td>SANCIONADO I Proyecto de Ley, “QUE DECLARA EST...</td>\n",
              "    </tr>\n",
              "  </tbody>\n",
              "</table>\n",
              "</div>"
            ],
            "text/plain": [
              "                                              Tweets\n",
              "0  : Cifra que alarma 💧 | El río Paraná continúa ...\n",
              "1  Una universidad de Paraguay aceptará pagos en ...\n",
              "2  _starship: [🪐] FNS | 🐣\\n\\n(una selca de) Días ...\n",
              "3  ★  ★  Una universidad de Paraguay aceptará pag...\n",
              "4  SANCIONADO I Proyecto de Ley, “QUE DECLARA EST..."
            ]
          },
          "metadata": {
            "tags": []
          },
          "execution_count": 23
        }
      ]
    },
    {
      "cell_type": "code",
      "metadata": {
        "colab": {
          "base_uri": "https://localhost:8080/",
          "height": 417
        },
        "id": "SISQg0ox0R-f",
        "outputId": "f8581fa9-ac88-4bcc-d80d-5a5de2ac3e8e"
      },
      "source": [
        "# crear la funcion para obtener la subjectividad\n",
        "def getSubjectivity(text):\n",
        "   return TextBlob(text).sentiment.subjectivity\n",
        "\n",
        "# Crear la funcion para obtener la polaridad\n",
        "def getPolarity(text):\n",
        "   return  TextBlob(text).sentiment.polarity\n",
        "\n",
        "\n",
        "# Crear dos nuevas columnas 'Subjectividad' & 'Polaridad'\n",
        "tweets['Subjectividad'] = tweets['Tweets'].apply(getSubjectivity)\n",
        "tweets['Polaridad'] = tweets['Tweets'].apply(getPolarity)\n",
        "\n",
        "# Show the new dataframe with columns 'Subjectivity' & 'Polarity'\n",
        "tweets"
      ],
      "execution_count": 24,
      "outputs": [
        {
          "output_type": "execute_result",
          "data": {
            "text/html": [
              "<div>\n",
              "<style scoped>\n",
              "    .dataframe tbody tr th:only-of-type {\n",
              "        vertical-align: middle;\n",
              "    }\n",
              "\n",
              "    .dataframe tbody tr th {\n",
              "        vertical-align: top;\n",
              "    }\n",
              "\n",
              "    .dataframe thead th {\n",
              "        text-align: right;\n",
              "    }\n",
              "</style>\n",
              "<table border=\"1\" class=\"dataframe\">\n",
              "  <thead>\n",
              "    <tr style=\"text-align: right;\">\n",
              "      <th></th>\n",
              "      <th>Tweets</th>\n",
              "      <th>Subjectividad</th>\n",
              "      <th>Polaridad</th>\n",
              "    </tr>\n",
              "  </thead>\n",
              "  <tbody>\n",
              "    <tr>\n",
              "      <th>0</th>\n",
              "      <td>: Cifra que alarma 💧 | El río Paraná continúa ...</td>\n",
              "      <td>0.0</td>\n",
              "      <td>0.00</td>\n",
              "    </tr>\n",
              "    <tr>\n",
              "      <th>1</th>\n",
              "      <td>Una universidad de Paraguay aceptará pagos en ...</td>\n",
              "      <td>0.0</td>\n",
              "      <td>0.00</td>\n",
              "    </tr>\n",
              "    <tr>\n",
              "      <th>2</th>\n",
              "      <td>_starship: [🪐] FNS | 🐣\\n\\n(una selca de) Días ...</td>\n",
              "      <td>1.0</td>\n",
              "      <td>-0.75</td>\n",
              "    </tr>\n",
              "    <tr>\n",
              "      <th>3</th>\n",
              "      <td>★  ★  Una universidad de Paraguay aceptará pag...</td>\n",
              "      <td>0.0</td>\n",
              "      <td>0.00</td>\n",
              "    </tr>\n",
              "    <tr>\n",
              "      <th>4</th>\n",
              "      <td>SANCIONADO I Proyecto de Ley, “QUE DECLARA EST...</td>\n",
              "      <td>0.0</td>\n",
              "      <td>0.00</td>\n",
              "    </tr>\n",
              "    <tr>\n",
              "      <th>...</th>\n",
              "      <td>...</td>\n",
              "      <td>...</td>\n",
              "      <td>...</td>\n",
              "    </tr>\n",
              "    <tr>\n",
              "      <th>95</th>\n",
              "      <td>20: Se perdió Titan! Zona chango mas, entre Ch...</td>\n",
              "      <td>0.0</td>\n",
              "      <td>0.00</td>\n",
              "    </tr>\n",
              "    <tr>\n",
              "      <th>96</th>\n",
              "      <td>: Colecta de 3.500.000 para salvar el ojito de...</td>\n",
              "      <td>0.0</td>\n",
              "      <td>0.00</td>\n",
              "    </tr>\n",
              "    <tr>\n",
              "      <th>97</th>\n",
              "      <td>\"Anthony, toca Riveros... Si bien hubo situaci...</td>\n",
              "      <td>1.0</td>\n",
              "      <td>0.00</td>\n",
              "    </tr>\n",
              "    <tr>\n",
              "      <th>98</th>\n",
              "      <td>10: La gente no renuncia \"porque no quiere tra...</td>\n",
              "      <td>0.2</td>\n",
              "      <td>-0.10</td>\n",
              "    </tr>\n",
              "    <tr>\n",
              "      <th>99</th>\n",
              "      <td>: ¡Ya salieron los emparejamientos de la Copa ...</td>\n",
              "      <td>0.0</td>\n",
              "      <td>0.00</td>\n",
              "    </tr>\n",
              "  </tbody>\n",
              "</table>\n",
              "<p>100 rows × 3 columns</p>\n",
              "</div>"
            ],
            "text/plain": [
              "                                               Tweets  Subjectividad  Polaridad\n",
              "0   : Cifra que alarma 💧 | El río Paraná continúa ...            0.0       0.00\n",
              "1   Una universidad de Paraguay aceptará pagos en ...            0.0       0.00\n",
              "2   _starship: [🪐] FNS | 🐣\\n\\n(una selca de) Días ...            1.0      -0.75\n",
              "3   ★  ★  Una universidad de Paraguay aceptará pag...            0.0       0.00\n",
              "4   SANCIONADO I Proyecto de Ley, “QUE DECLARA EST...            0.0       0.00\n",
              "..                                                ...            ...        ...\n",
              "95  20: Se perdió Titan! Zona chango mas, entre Ch...            0.0       0.00\n",
              "96  : Colecta de 3.500.000 para salvar el ojito de...            0.0       0.00\n",
              "97  \"Anthony, toca Riveros... Si bien hubo situaci...            1.0       0.00\n",
              "98  10: La gente no renuncia \"porque no quiere tra...            0.2      -0.10\n",
              "99  : ¡Ya salieron los emparejamientos de la Copa ...            0.0       0.00\n",
              "\n",
              "[100 rows x 3 columns]"
            ]
          },
          "metadata": {
            "tags": []
          },
          "execution_count": 24
        }
      ]
    },
    {
      "cell_type": "code",
      "metadata": {
        "colab": {
          "base_uri": "https://localhost:8080/",
          "height": 417
        },
        "id": "mUsrylgS0gh2",
        "outputId": "fed9c8d4-c648-446b-9987-9df2673d175a"
      },
      "source": [
        "# Crear una funcion para calcular negativo (-1), neutral (0) and positivo (+1) \n",
        "def getAnalysis(score):\n",
        "  if score < 0:\n",
        "    return 'Negativo'\n",
        "  elif score == 0:\n",
        "    return 'Neutral'\n",
        "  else:\n",
        "    return 'Positivo'\n",
        "\n",
        "tweets['Analisis'] = tweets['Polaridad'].apply(getAnalysis)\n",
        "# Show the dataframe\n",
        "tweets"
      ],
      "execution_count": 25,
      "outputs": [
        {
          "output_type": "execute_result",
          "data": {
            "text/html": [
              "<div>\n",
              "<style scoped>\n",
              "    .dataframe tbody tr th:only-of-type {\n",
              "        vertical-align: middle;\n",
              "    }\n",
              "\n",
              "    .dataframe tbody tr th {\n",
              "        vertical-align: top;\n",
              "    }\n",
              "\n",
              "    .dataframe thead th {\n",
              "        text-align: right;\n",
              "    }\n",
              "</style>\n",
              "<table border=\"1\" class=\"dataframe\">\n",
              "  <thead>\n",
              "    <tr style=\"text-align: right;\">\n",
              "      <th></th>\n",
              "      <th>Tweets</th>\n",
              "      <th>Subjectividad</th>\n",
              "      <th>Polaridad</th>\n",
              "      <th>Analisis</th>\n",
              "    </tr>\n",
              "  </thead>\n",
              "  <tbody>\n",
              "    <tr>\n",
              "      <th>0</th>\n",
              "      <td>: Cifra que alarma 💧 | El río Paraná continúa ...</td>\n",
              "      <td>0.0</td>\n",
              "      <td>0.00</td>\n",
              "      <td>Neutral</td>\n",
              "    </tr>\n",
              "    <tr>\n",
              "      <th>1</th>\n",
              "      <td>Una universidad de Paraguay aceptará pagos en ...</td>\n",
              "      <td>0.0</td>\n",
              "      <td>0.00</td>\n",
              "      <td>Neutral</td>\n",
              "    </tr>\n",
              "    <tr>\n",
              "      <th>2</th>\n",
              "      <td>_starship: [🪐] FNS | 🐣\\n\\n(una selca de) Días ...</td>\n",
              "      <td>1.0</td>\n",
              "      <td>-0.75</td>\n",
              "      <td>Negativo</td>\n",
              "    </tr>\n",
              "    <tr>\n",
              "      <th>3</th>\n",
              "      <td>★  ★  Una universidad de Paraguay aceptará pag...</td>\n",
              "      <td>0.0</td>\n",
              "      <td>0.00</td>\n",
              "      <td>Neutral</td>\n",
              "    </tr>\n",
              "    <tr>\n",
              "      <th>4</th>\n",
              "      <td>SANCIONADO I Proyecto de Ley, “QUE DECLARA EST...</td>\n",
              "      <td>0.0</td>\n",
              "      <td>0.00</td>\n",
              "      <td>Neutral</td>\n",
              "    </tr>\n",
              "    <tr>\n",
              "      <th>...</th>\n",
              "      <td>...</td>\n",
              "      <td>...</td>\n",
              "      <td>...</td>\n",
              "      <td>...</td>\n",
              "    </tr>\n",
              "    <tr>\n",
              "      <th>95</th>\n",
              "      <td>20: Se perdió Titan! Zona chango mas, entre Ch...</td>\n",
              "      <td>0.0</td>\n",
              "      <td>0.00</td>\n",
              "      <td>Neutral</td>\n",
              "    </tr>\n",
              "    <tr>\n",
              "      <th>96</th>\n",
              "      <td>: Colecta de 3.500.000 para salvar el ojito de...</td>\n",
              "      <td>0.0</td>\n",
              "      <td>0.00</td>\n",
              "      <td>Neutral</td>\n",
              "    </tr>\n",
              "    <tr>\n",
              "      <th>97</th>\n",
              "      <td>\"Anthony, toca Riveros... Si bien hubo situaci...</td>\n",
              "      <td>1.0</td>\n",
              "      <td>0.00</td>\n",
              "      <td>Neutral</td>\n",
              "    </tr>\n",
              "    <tr>\n",
              "      <th>98</th>\n",
              "      <td>10: La gente no renuncia \"porque no quiere tra...</td>\n",
              "      <td>0.2</td>\n",
              "      <td>-0.10</td>\n",
              "      <td>Negativo</td>\n",
              "    </tr>\n",
              "    <tr>\n",
              "      <th>99</th>\n",
              "      <td>: ¡Ya salieron los emparejamientos de la Copa ...</td>\n",
              "      <td>0.0</td>\n",
              "      <td>0.00</td>\n",
              "      <td>Neutral</td>\n",
              "    </tr>\n",
              "  </tbody>\n",
              "</table>\n",
              "<p>100 rows × 4 columns</p>\n",
              "</div>"
            ],
            "text/plain": [
              "                                               Tweets  ...  Analisis\n",
              "0   : Cifra que alarma 💧 | El río Paraná continúa ...  ...   Neutral\n",
              "1   Una universidad de Paraguay aceptará pagos en ...  ...   Neutral\n",
              "2   _starship: [🪐] FNS | 🐣\\n\\n(una selca de) Días ...  ...  Negativo\n",
              "3   ★  ★  Una universidad de Paraguay aceptará pag...  ...   Neutral\n",
              "4   SANCIONADO I Proyecto de Ley, “QUE DECLARA EST...  ...   Neutral\n",
              "..                                                ...  ...       ...\n",
              "95  20: Se perdió Titan! Zona chango mas, entre Ch...  ...   Neutral\n",
              "96  : Colecta de 3.500.000 para salvar el ojito de...  ...   Neutral\n",
              "97  \"Anthony, toca Riveros... Si bien hubo situaci...  ...   Neutral\n",
              "98  10: La gente no renuncia \"porque no quiere tra...  ...  Negativo\n",
              "99  : ¡Ya salieron los emparejamientos de la Copa ...  ...   Neutral\n",
              "\n",
              "[100 rows x 4 columns]"
            ]
          },
          "metadata": {
            "tags": []
          },
          "execution_count": 25
        }
      ]
    },
    {
      "cell_type": "code",
      "metadata": {
        "colab": {
          "base_uri": "https://localhost:8080/"
        },
        "id": "WLesCLppqD-A",
        "outputId": "f4180d66-2a6c-4296-fcb9-5a4264af1053"
      },
      "source": [
        "#Porcentaje de Tweets Positivos\n",
        "ntweets = tweets[tweets.Analisis == 'Positivo']\n",
        "ntweets = ntweets['Tweets']\n",
        "ntweets\n",
        "\n",
        "round( (ntweets.shape[0] / tweets.shape[0]) * 100, 1)"
      ],
      "execution_count": 26,
      "outputs": [
        {
          "output_type": "execute_result",
          "data": {
            "text/plain": [
              "9.0"
            ]
          },
          "metadata": {
            "tags": []
          },
          "execution_count": 26
        }
      ]
    },
    {
      "cell_type": "code",
      "metadata": {
        "colab": {
          "base_uri": "https://localhost:8080/"
        },
        "id": "act4i618qDQT",
        "outputId": "02e857a1-1f17-4200-bfe6-3fd76ca3d9b7"
      },
      "source": [
        "#Porcentaje de Tweets Negativos\n",
        "# Print the percentage of negative tweets\n",
        "ntweets = tweets[tweets.Analisis == 'Negativo']\n",
        "ntweets = ntweets['Tweets']\n",
        "ntweets\n",
        "\n",
        "round( (ntweets.shape[0] / tweets.shape[0]) * 100, 1)"
      ],
      "execution_count": 27,
      "outputs": [
        {
          "output_type": "execute_result",
          "data": {
            "text/plain": [
              "8.0"
            ]
          },
          "metadata": {
            "tags": []
          },
          "execution_count": 27
        }
      ]
    },
    {
      "cell_type": "code",
      "metadata": {
        "colab": {
          "base_uri": "https://localhost:8080/"
        },
        "id": "uI8bNrqAqFio",
        "outputId": "23e75a92-7206-4591-ff37-51eaa5a6844a"
      },
      "source": [
        "#Porcentaje de Tweets Neutros\n",
        "ntweets = tweets[tweets.Analisis == 'Neutral']\n",
        "ntweets = ntweets['Tweets']\n",
        "ntweets\n",
        "\n",
        "round( (ntweets.shape[0] / tweets.shape[0]) * 100, 1)"
      ],
      "execution_count": 28,
      "outputs": [
        {
          "output_type": "execute_result",
          "data": {
            "text/plain": [
              "83.0"
            ]
          },
          "metadata": {
            "tags": []
          },
          "execution_count": 28
        }
      ]
    }
  ]
}