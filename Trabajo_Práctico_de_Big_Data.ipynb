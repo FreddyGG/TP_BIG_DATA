{
  "nbformat": 4,
  "nbformat_minor": 0,
  "metadata": {
    "colab": {
      "name": "Trabajo Práctico de Big Data.ipynb",
      "provenance": [],
      "authorship_tag": "ABX9TyOa2ciV9wKyb4tWI0dXC6KX",
      "include_colab_link": true
    },
    "kernelspec": {
      "name": "python3",
      "display_name": "Python 3"
    },
    "language_info": {
      "name": "python"
    }
  },
  "cells": [
    {
      "cell_type": "markdown",
      "metadata": {
        "id": "view-in-github",
        "colab_type": "text"
      },
      "source": [
        "<a href=\"https://colab.research.google.com/github/FreddyGG/TP_BIG_DATA/blob/main/Trabajo_Pr%C3%A1ctico_de_Big_Data.ipynb\" target=\"_parent\"><img src=\"https://colab.research.google.com/assets/colab-badge.svg\" alt=\"Open In Colab\"/></a>"
      ]
    },
    {
      "cell_type": "markdown",
      "metadata": {
        "id": "TEJLZLCLpTem"
      },
      "source": [
        "# **COMPONENTE 1**"
      ]
    },
    {
      "cell_type": "markdown",
      "metadata": {
        "id": "31YkkBvwpEg4"
      },
      "source": [
        "Como paso inicial del proyecto de big data, el alumno escribir un script que permita obtener una\n",
        "lista de las últimas menciones de un handle o hashtag en Twitter a través de su API. Este\n",
        "programa en Python deberá luego guardar los tweets en un archivo .csv para su posterior\n",
        "análisis.\n",
        "El archivo de salida deberá contener mínimamente: Texto del tweet, Autor, Timestamp, Número de Favs, Número de RTs"
      ]
    },
    {
      "cell_type": "code",
      "metadata": {
        "id": "AVcF-00axZJg",
        "colab": {
          "base_uri": "https://localhost:8080/"
        },
        "outputId": "476796c0-0f3e-4b48-f451-964dd4fa43c3"
      },
      "source": [
        "import nltk\n",
        "nltk.download('vader_lexicon')"
      ],
      "execution_count": 29,
      "outputs": [
        {
          "output_type": "stream",
          "text": [
            "[nltk_data] Downloading package vader_lexicon to /root/nltk_data...\n",
            "[nltk_data]   Package vader_lexicon is already up-to-date!\n"
          ],
          "name": "stdout"
        },
        {
          "output_type": "execute_result",
          "data": {
            "text/plain": [
              "True"
            ]
          },
          "metadata": {
            "tags": []
          },
          "execution_count": 29
        }
      ]
    },
    {
      "cell_type": "code",
      "metadata": {
        "id": "Ti6qcGljY_Wv",
        "colab": {
          "base_uri": "https://localhost:8080/"
        },
        "outputId": "c3e249c1-a00b-4481-ad2f-753e1996e2a6"
      },
      "source": [
        "!pip install langdetect"
      ],
      "execution_count": 30,
      "outputs": [
        {
          "output_type": "stream",
          "text": [
            "Requirement already satisfied: langdetect in /usr/local/lib/python3.7/dist-packages (1.0.9)\n",
            "Requirement already satisfied: six in /usr/local/lib/python3.7/dist-packages (from langdetect) (1.15.0)\n"
          ],
          "name": "stdout"
        }
      ]
    },
    {
      "cell_type": "code",
      "metadata": {
        "id": "gIbs1g_zZBZ9",
        "colab": {
          "base_uri": "https://localhost:8080/"
        },
        "outputId": "508fe7d3-96b1-494d-a3d2-a34616300320"
      },
      "source": [
        "#importamos librerias\n",
        "import tweepy\n",
        "from textblob import TextBlob\n",
        "from wordcloud import WordCloud, STOPWORDS\n",
        "import pandas as pd\n",
        "import numpy as np\n",
        "import re\n",
        "import matplotlib.pyplot as plt\n",
        "plt.style.use('fivethirtyeight')\n",
        "import datetime\n",
        "from nltk.sentiment.vader import SentimentIntensityAnalyzer\n",
        "from nltk.sentiment.vader import SentimentIntensityAnalyzer\n",
        "from nltk.stem import SnowballStemmer\n",
        "nltk.download('stopwords')\n",
        "from nltk.corpus import stopwords\n",
        "stopwords = set(stopwords.words('spanish'))\n",
        "from sklearn.feature_extraction.text import CountVectorizer\n",
        "from langdetect import detect"
      ],
      "execution_count": 31,
      "outputs": [
        {
          "output_type": "stream",
          "text": [
            "[nltk_data] Downloading package stopwords to /root/nltk_data...\n",
            "[nltk_data]   Package stopwords is already up-to-date!\n"
          ],
          "name": "stdout"
        }
      ]
    },
    {
      "cell_type": "code",
      "metadata": {
        "id": "BIEcObw6ZCI9"
      },
      "source": [
        "# Twitter Api Credentials\n",
        "consumerKey = 'ogYNVLjPL8ygj4PO6vIyYVxyP'#log[\"key\"][0]\n",
        "consumerSecret = 'fS8uxKMb2hZ4GOpey1Y6AsbWDeQCIA9srJRetzCo9cAMAM6AbZ'#log[\"key\"][1]\n",
        "accessToken = '175984347-syxFReYiggzkhkr0gz5bKX4Asi5S91eNXKU0iIbV'#log[\"key\"][2]\n",
        "accessTokenSecret = '1LhUQr7jCEDxZ0BBQSs9TK2VaXiZq08f2pKMMoBPq1GkJ'#log[\"key\"][3]"
      ],
      "execution_count": 32,
      "outputs": []
    },
    {
      "cell_type": "code",
      "metadata": {
        "id": "tjfkHBabZFKo"
      },
      "source": [
        "#creamos un objeto de autenticacion\n",
        "authenticate = tweepy.OAuthHandler(consumerKey, consumerSecret) \n",
        "    \n",
        "# Seteamos el access token y access token secret\n",
        "authenticate.set_access_token(accessToken, accessTokenSecret) \n",
        "\n",
        "#Creamos el objeto API mientras parseamos la informacion en auth  \n",
        "api = tweepy.API(authenticate, wait_on_rate_limit = True)"
      ],
      "execution_count": 33,
      "outputs": []
    },
    {
      "cell_type": "code",
      "metadata": {
        "colab": {
          "base_uri": "https://localhost:8080/"
        },
        "id": "ieLQN-tmf8Wb",
        "outputId": "9502dbd3-942e-4296-91ca-349180ebf918"
      },
      "source": [
        "#Pedimos que ingrese los tweets a buscar\n",
        "print('Analizar Sentimientos de Tweets')\n",
        "keyword = input(\"Ingrese el hastag o keyword que desea buscar: \")\n",
        "nroTweet = int(input(\"Ingrese cuantos tweets desea buscar: \"))\n",
        "\n",
        "list = tweepy.Cursor(api.search, q=keyword ,tweet_mode='extended', lang='es').items(nroTweet)"
      ],
      "execution_count": 35,
      "outputs": [
        {
          "output_type": "stream",
          "text": [
            "Analizar Sentimientos de Tweets\n",
            "Ingrese el hastag o keyword que desea buscar: Energia Solar\n",
            "Ingrese cuantos tweets desea buscar: 500\n"
          ],
          "name": "stdout"
        }
      ]
    },
    {
      "cell_type": "code",
      "metadata": {
        "id": "5wvbKIOhgQuM"
      },
      "source": [
        "#Almacenamos los tweets en una lista\n",
        "tweet_list = []\n",
        "for tweet in list:\n",
        "    text = tweet._json[\"full_text\"]\n",
        "    #print(text)\n",
        "    favourite_count = tweet.favorite_count\n",
        "    retweet_count = tweet.retweet_count\n",
        "    created_at = tweet.created_at\n",
        "    author = tweet.author.name\n",
        "    \n",
        "    line = {'text' : text, 'author' : author, 'favourite_count' : favourite_count, 'retweet_count' : retweet_count, 'created_at' : created_at}\n",
        "    tweet_list.append(line)"
      ],
      "execution_count": 36,
      "outputs": []
    },
    {
      "cell_type": "code",
      "metadata": {
        "id": "t7IaOdkigpG5"
      },
      "source": [
        "#Convertimos la lista a un DataFrame\n",
        "dfTweets = pd.DataFrame(tweet_list)\n",
        "\n",
        "#Seteamos la funcion para limpiar los tweets\n",
        "def cleanTxt(text):\n",
        " text = re.sub('@[A-Za-z0–9]+', '', text) #Removing @mentions\n",
        " text = re.sub('#', '', text) # Removing '#' hash tag\n",
        " text = re.sub('RT[\\s]+', '', text) # Removing RT\n",
        " text = re.sub('https?:\\/\\/\\S+', '', text) # Removing hyperlink\n",
        " \n",
        " return text\n",
        "\n",
        "#Limpiamos los tweets y renombramos las columnas\n",
        "dfTweets = dfTweets.rename(columns={'text': 'Tweets', 'author': 'Author', 'favourite_count': 'Favourites', 'retweet_count': 'Retweets', 'created_at': 'Date'})\n",
        "dfTweets['Tweets'] = dfTweets['Tweets'].apply(cleanTxt)\n",
        "\n",
        "#Creamos el archivo csv\n",
        "dfTweets.to_csv('tweets.csv')"
      ],
      "execution_count": 37,
      "outputs": []
    },
    {
      "cell_type": "code",
      "metadata": {
        "colab": {
          "base_uri": "https://localhost:8080/",
          "height": 417
        },
        "id": "oCh5tOFWkJDq",
        "outputId": "ac6321cc-a49a-4aa3-b8cf-f5b7cc2ed848"
      },
      "source": [
        "dfTweets"
      ],
      "execution_count": 38,
      "outputs": [
        {
          "output_type": "execute_result",
          "data": {
            "text/html": [
              "<div>\n",
              "<style scoped>\n",
              "    .dataframe tbody tr th:only-of-type {\n",
              "        vertical-align: middle;\n",
              "    }\n",
              "\n",
              "    .dataframe tbody tr th {\n",
              "        vertical-align: top;\n",
              "    }\n",
              "\n",
              "    .dataframe thead th {\n",
              "        text-align: right;\n",
              "    }\n",
              "</style>\n",
              "<table border=\"1\" class=\"dataframe\">\n",
              "  <thead>\n",
              "    <tr style=\"text-align: right;\">\n",
              "      <th></th>\n",
              "      <th>Tweets</th>\n",
              "      <th>Author</th>\n",
              "      <th>Favourites</th>\n",
              "      <th>Retweets</th>\n",
              "      <th>Date</th>\n",
              "    </tr>\n",
              "  </thead>\n",
              "  <tbody>\n",
              "    <tr>\n",
              "      <th>0</th>\n",
              "      <td>: Gracias por este premio Nacional de Economía...</td>\n",
              "      <td>mistigri12@hotmail.c</td>\n",
              "      <td>0</td>\n",
              "      <td>29</td>\n",
              "      <td>2021-06-23 19:18:45</td>\n",
              "    </tr>\n",
              "    <tr>\n",
              "      <th>1</th>\n",
              "      <td>: Ciudad Solar es uno de los ejes de Nuestro P...</td>\n",
              "      <td>Abel Mandujano</td>\n",
              "      <td>0</td>\n",
              "      <td>108</td>\n",
              "      <td>2021-06-23 19:18:20</td>\n",
              "    </tr>\n",
              "    <tr>\n",
              "      <th>2</th>\n",
              "      <td>: Ciudad Solar es uno de los ejes de Nuestro P...</td>\n",
              "      <td>Medea</td>\n",
              "      <td>0</td>\n",
              "      <td>108</td>\n",
              "      <td>2021-06-23 19:18:00</td>\n",
              "    </tr>\n",
              "    <tr>\n",
              "      <th>3</th>\n",
              "      <td>_Villeda: Los costos de la energía solar fotov...</td>\n",
              "      <td>CuidadaniaQro</td>\n",
              "      <td>0</td>\n",
              "      <td>70</td>\n",
              "      <td>2021-06-23 19:17:52</td>\n",
              "    </tr>\n",
              "    <tr>\n",
              "      <th>4</th>\n",
              "      <td>: Ciudad Solar es uno de los ejes de Nuestro P...</td>\n",
              "      <td>JM Gomez</td>\n",
              "      <td>0</td>\n",
              "      <td>108</td>\n",
              "      <td>2021-06-23 19:17:00</td>\n",
              "    </tr>\n",
              "    <tr>\n",
              "      <th>...</th>\n",
              "      <td>...</td>\n",
              "      <td>...</td>\n",
              "      <td>...</td>\n",
              "      <td>...</td>\n",
              "      <td>...</td>\n",
              "    </tr>\n",
              "    <tr>\n",
              "      <th>495</th>\n",
              "      <td>: Subsecretario de Energía  inaugura proyecto ...</td>\n",
              "      <td>lomejorchilito</td>\n",
              "      <td>0</td>\n",
              "      <td>14</td>\n",
              "      <td>2021-06-23 12:47:23</td>\n",
              "    </tr>\n",
              "    <tr>\n",
              "      <th>496</th>\n",
              "      <td>: Subsecretario de Energía  inaugura proyecto ...</td>\n",
              "      <td>Energía Ñuble</td>\n",
              "      <td>0</td>\n",
              "      <td>14</td>\n",
              "      <td>2021-06-23 12:47:16</td>\n",
              "    </tr>\n",
              "    <tr>\n",
              "      <th>497</th>\n",
              "      <td>: Subsecretario de Energía  inaugura proyecto ...</td>\n",
              "      <td>Energía Los Lagos</td>\n",
              "      <td>0</td>\n",
              "      <td>14</td>\n",
              "      <td>2021-06-23 12:47:10</td>\n",
              "    </tr>\n",
              "    <tr>\n",
              "      <th>498</th>\n",
              "      <td>: Lugares en Adjuntas urbano que gozan de ener...</td>\n",
              "      <td>CoHemis</td>\n",
              "      <td>0</td>\n",
              "      <td>98</td>\n",
              "      <td>2021-06-23 12:46:59</td>\n",
              "    </tr>\n",
              "    <tr>\n",
              "      <th>499</th>\n",
              "      <td>Subsecretario de Energía  inaugura proyecto de...</td>\n",
              "      <td>E n e r g í a</td>\n",
              "      <td>35</td>\n",
              "      <td>14</td>\n",
              "      <td>2021-06-23 12:46:30</td>\n",
              "    </tr>\n",
              "  </tbody>\n",
              "</table>\n",
              "<p>500 rows × 5 columns</p>\n",
              "</div>"
            ],
            "text/plain": [
              "                                                Tweets  ...                Date\n",
              "0    : Gracias por este premio Nacional de Economía...  ... 2021-06-23 19:18:45\n",
              "1    : Ciudad Solar es uno de los ejes de Nuestro P...  ... 2021-06-23 19:18:20\n",
              "2    : Ciudad Solar es uno de los ejes de Nuestro P...  ... 2021-06-23 19:18:00\n",
              "3    _Villeda: Los costos de la energía solar fotov...  ... 2021-06-23 19:17:52\n",
              "4    : Ciudad Solar es uno de los ejes de Nuestro P...  ... 2021-06-23 19:17:00\n",
              "..                                                 ...  ...                 ...\n",
              "495  : Subsecretario de Energía  inaugura proyecto ...  ... 2021-06-23 12:47:23\n",
              "496  : Subsecretario de Energía  inaugura proyecto ...  ... 2021-06-23 12:47:16\n",
              "497  : Subsecretario de Energía  inaugura proyecto ...  ... 2021-06-23 12:47:10\n",
              "498  : Lugares en Adjuntas urbano que gozan de ener...  ... 2021-06-23 12:46:59\n",
              "499  Subsecretario de Energía  inaugura proyecto de...  ... 2021-06-23 12:46:30\n",
              "\n",
              "[500 rows x 5 columns]"
            ]
          },
          "metadata": {
            "tags": []
          },
          "execution_count": 38
        }
      ]
    },
    {
      "cell_type": "markdown",
      "metadata": {
        "id": "zE94h3W3pjak"
      },
      "source": [
        "# **COMPONENTE 2**"
      ]
    },
    {
      "cell_type": "markdown",
      "metadata": {
        "id": "CNpb9BU3pnyu"
      },
      "source": [
        "El alumno deberá crear un script en Python que calcule el sentimiento de cada tweet y\n",
        "almacene los resultados en un archivo .csv. Además, se deberá calcular el sentimiento\n",
        "promedio relacionado a las menciones."
      ]
    },
    {
      "cell_type": "code",
      "metadata": {
        "id": "pgJSHLTeprwG"
      },
      "source": [
        "#creamos un data frame con unicamente los tweets\n",
        "tweets = pd.DataFrame(dfTweets['Tweets'])"
      ],
      "execution_count": 39,
      "outputs": []
    },
    {
      "cell_type": "code",
      "metadata": {
        "colab": {
          "base_uri": "https://localhost:8080/",
          "height": 203
        },
        "id": "-NFoPhRKqCCW",
        "outputId": "3030cd0c-6a60-4e19-9d72-deba94624610"
      },
      "source": [
        "tweets.head()"
      ],
      "execution_count": 40,
      "outputs": [
        {
          "output_type": "execute_result",
          "data": {
            "text/html": [
              "<div>\n",
              "<style scoped>\n",
              "    .dataframe tbody tr th:only-of-type {\n",
              "        vertical-align: middle;\n",
              "    }\n",
              "\n",
              "    .dataframe tbody tr th {\n",
              "        vertical-align: top;\n",
              "    }\n",
              "\n",
              "    .dataframe thead th {\n",
              "        text-align: right;\n",
              "    }\n",
              "</style>\n",
              "<table border=\"1\" class=\"dataframe\">\n",
              "  <thead>\n",
              "    <tr style=\"text-align: right;\">\n",
              "      <th></th>\n",
              "      <th>Tweets</th>\n",
              "    </tr>\n",
              "  </thead>\n",
              "  <tbody>\n",
              "    <tr>\n",
              "      <th>0</th>\n",
              "      <td>: Gracias por este premio Nacional de Economía...</td>\n",
              "    </tr>\n",
              "    <tr>\n",
              "      <th>1</th>\n",
              "      <td>: Ciudad Solar es uno de los ejes de Nuestro P...</td>\n",
              "    </tr>\n",
              "    <tr>\n",
              "      <th>2</th>\n",
              "      <td>: Ciudad Solar es uno de los ejes de Nuestro P...</td>\n",
              "    </tr>\n",
              "    <tr>\n",
              "      <th>3</th>\n",
              "      <td>_Villeda: Los costos de la energía solar fotov...</td>\n",
              "    </tr>\n",
              "    <tr>\n",
              "      <th>4</th>\n",
              "      <td>: Ciudad Solar es uno de los ejes de Nuestro P...</td>\n",
              "    </tr>\n",
              "  </tbody>\n",
              "</table>\n",
              "</div>"
            ],
            "text/plain": [
              "                                              Tweets\n",
              "0  : Gracias por este premio Nacional de Economía...\n",
              "1  : Ciudad Solar es uno de los ejes de Nuestro P...\n",
              "2  : Ciudad Solar es uno de los ejes de Nuestro P...\n",
              "3  _Villeda: Los costos de la energía solar fotov...\n",
              "4  : Ciudad Solar es uno de los ejes de Nuestro P..."
            ]
          },
          "metadata": {
            "tags": []
          },
          "execution_count": 40
        }
      ]
    },
    {
      "cell_type": "code",
      "metadata": {
        "colab": {
          "base_uri": "https://localhost:8080/",
          "height": 417
        },
        "id": "SISQg0ox0R-f",
        "outputId": "c1b8f28f-cb25-460d-e316-deaeaaf8f17a"
      },
      "source": [
        "# crear la funcion para obtener la subjectividad\n",
        "def getSubjectivity(text):\n",
        "   return TextBlob(text).sentiment.subjectivity\n",
        "\n",
        "# Crear la funcion para obtener la polaridad\n",
        "def getPolarity(text):\n",
        "   return  TextBlob(text).sentiment.polarity\n",
        "\n",
        "\n",
        "# Crear dos nuevas columnas 'Subjectividad' & 'Polaridad'\n",
        "tweets['Subjectividad'] = tweets['Tweets'].apply(getSubjectivity)\n",
        "tweets['Polaridad'] = tweets['Tweets'].apply(getPolarity)\n",
        "\n",
        "# Show the new dataframe with columns 'Subjectivity' & 'Polarity'\n",
        "tweets"
      ],
      "execution_count": 41,
      "outputs": [
        {
          "output_type": "execute_result",
          "data": {
            "text/html": [
              "<div>\n",
              "<style scoped>\n",
              "    .dataframe tbody tr th:only-of-type {\n",
              "        vertical-align: middle;\n",
              "    }\n",
              "\n",
              "    .dataframe tbody tr th {\n",
              "        vertical-align: top;\n",
              "    }\n",
              "\n",
              "    .dataframe thead th {\n",
              "        text-align: right;\n",
              "    }\n",
              "</style>\n",
              "<table border=\"1\" class=\"dataframe\">\n",
              "  <thead>\n",
              "    <tr style=\"text-align: right;\">\n",
              "      <th></th>\n",
              "      <th>Tweets</th>\n",
              "      <th>Subjectividad</th>\n",
              "      <th>Polaridad</th>\n",
              "    </tr>\n",
              "  </thead>\n",
              "  <tbody>\n",
              "    <tr>\n",
              "      <th>0</th>\n",
              "      <td>: Gracias por este premio Nacional de Economía...</td>\n",
              "      <td>0.0</td>\n",
              "      <td>0.0</td>\n",
              "    </tr>\n",
              "    <tr>\n",
              "      <th>1</th>\n",
              "      <td>: Ciudad Solar es uno de los ejes de Nuestro P...</td>\n",
              "      <td>0.0</td>\n",
              "      <td>0.0</td>\n",
              "    </tr>\n",
              "    <tr>\n",
              "      <th>2</th>\n",
              "      <td>: Ciudad Solar es uno de los ejes de Nuestro P...</td>\n",
              "      <td>0.0</td>\n",
              "      <td>0.0</td>\n",
              "    </tr>\n",
              "    <tr>\n",
              "      <th>3</th>\n",
              "      <td>_Villeda: Los costos de la energía solar fotov...</td>\n",
              "      <td>0.0</td>\n",
              "      <td>0.0</td>\n",
              "    </tr>\n",
              "    <tr>\n",
              "      <th>4</th>\n",
              "      <td>: Ciudad Solar es uno de los ejes de Nuestro P...</td>\n",
              "      <td>0.0</td>\n",
              "      <td>0.0</td>\n",
              "    </tr>\n",
              "    <tr>\n",
              "      <th>...</th>\n",
              "      <td>...</td>\n",
              "      <td>...</td>\n",
              "      <td>...</td>\n",
              "    </tr>\n",
              "    <tr>\n",
              "      <th>495</th>\n",
              "      <td>: Subsecretario de Energía  inaugura proyecto ...</td>\n",
              "      <td>0.0</td>\n",
              "      <td>0.0</td>\n",
              "    </tr>\n",
              "    <tr>\n",
              "      <th>496</th>\n",
              "      <td>: Subsecretario de Energía  inaugura proyecto ...</td>\n",
              "      <td>0.0</td>\n",
              "      <td>0.0</td>\n",
              "    </tr>\n",
              "    <tr>\n",
              "      <th>497</th>\n",
              "      <td>: Subsecretario de Energía  inaugura proyecto ...</td>\n",
              "      <td>0.0</td>\n",
              "      <td>0.0</td>\n",
              "    </tr>\n",
              "    <tr>\n",
              "      <th>498</th>\n",
              "      <td>: Lugares en Adjuntas urbano que gozan de ener...</td>\n",
              "      <td>0.0</td>\n",
              "      <td>0.0</td>\n",
              "    </tr>\n",
              "    <tr>\n",
              "      <th>499</th>\n",
              "      <td>Subsecretario de Energía  inaugura proyecto de...</td>\n",
              "      <td>0.0</td>\n",
              "      <td>0.0</td>\n",
              "    </tr>\n",
              "  </tbody>\n",
              "</table>\n",
              "<p>500 rows × 3 columns</p>\n",
              "</div>"
            ],
            "text/plain": [
              "                                                Tweets  ...  Polaridad\n",
              "0    : Gracias por este premio Nacional de Economía...  ...        0.0\n",
              "1    : Ciudad Solar es uno de los ejes de Nuestro P...  ...        0.0\n",
              "2    : Ciudad Solar es uno de los ejes de Nuestro P...  ...        0.0\n",
              "3    _Villeda: Los costos de la energía solar fotov...  ...        0.0\n",
              "4    : Ciudad Solar es uno de los ejes de Nuestro P...  ...        0.0\n",
              "..                                                 ...  ...        ...\n",
              "495  : Subsecretario de Energía  inaugura proyecto ...  ...        0.0\n",
              "496  : Subsecretario de Energía  inaugura proyecto ...  ...        0.0\n",
              "497  : Subsecretario de Energía  inaugura proyecto ...  ...        0.0\n",
              "498  : Lugares en Adjuntas urbano que gozan de ener...  ...        0.0\n",
              "499  Subsecretario de Energía  inaugura proyecto de...  ...        0.0\n",
              "\n",
              "[500 rows x 3 columns]"
            ]
          },
          "metadata": {
            "tags": []
          },
          "execution_count": 41
        }
      ]
    },
    {
      "cell_type": "code",
      "metadata": {
        "colab": {
          "base_uri": "https://localhost:8080/",
          "height": 417
        },
        "id": "mUsrylgS0gh2",
        "outputId": "601cad0c-02a3-495f-9224-cd774b76716d"
      },
      "source": [
        "# Crear una funcion para calcular negativo (-1), neutral (0) and positivo (+1) \n",
        "def getAnalysis(score):\n",
        "  if score < 0:\n",
        "    return 'Negativo'\n",
        "  elif score == 0:\n",
        "    return 'Neutral'\n",
        "  else:\n",
        "    return 'Positivo'\n",
        "\n",
        "tweets['Analisis'] = tweets['Polaridad'].apply(getAnalysis)\n",
        "\n",
        "#Convertimos el df en csv\n",
        "tweets.to_csv('TweetsSentimentAnalysis.csv')\n",
        "\n",
        "# Show the dataframe\n",
        "tweets"
      ],
      "execution_count": 48,
      "outputs": [
        {
          "output_type": "execute_result",
          "data": {
            "text/html": [
              "<div>\n",
              "<style scoped>\n",
              "    .dataframe tbody tr th:only-of-type {\n",
              "        vertical-align: middle;\n",
              "    }\n",
              "\n",
              "    .dataframe tbody tr th {\n",
              "        vertical-align: top;\n",
              "    }\n",
              "\n",
              "    .dataframe thead th {\n",
              "        text-align: right;\n",
              "    }\n",
              "</style>\n",
              "<table border=\"1\" class=\"dataframe\">\n",
              "  <thead>\n",
              "    <tr style=\"text-align: right;\">\n",
              "      <th></th>\n",
              "      <th>Tweets</th>\n",
              "      <th>Subjectividad</th>\n",
              "      <th>Polaridad</th>\n",
              "      <th>Analisis</th>\n",
              "    </tr>\n",
              "  </thead>\n",
              "  <tbody>\n",
              "    <tr>\n",
              "      <th>0</th>\n",
              "      <td>: Gracias por este premio Nacional de Economía...</td>\n",
              "      <td>0.0</td>\n",
              "      <td>0.0</td>\n",
              "      <td>Neutral</td>\n",
              "    </tr>\n",
              "    <tr>\n",
              "      <th>1</th>\n",
              "      <td>: Ciudad Solar es uno de los ejes de Nuestro P...</td>\n",
              "      <td>0.0</td>\n",
              "      <td>0.0</td>\n",
              "      <td>Neutral</td>\n",
              "    </tr>\n",
              "    <tr>\n",
              "      <th>2</th>\n",
              "      <td>: Ciudad Solar es uno de los ejes de Nuestro P...</td>\n",
              "      <td>0.0</td>\n",
              "      <td>0.0</td>\n",
              "      <td>Neutral</td>\n",
              "    </tr>\n",
              "    <tr>\n",
              "      <th>3</th>\n",
              "      <td>_Villeda: Los costos de la energía solar fotov...</td>\n",
              "      <td>0.0</td>\n",
              "      <td>0.0</td>\n",
              "      <td>Neutral</td>\n",
              "    </tr>\n",
              "    <tr>\n",
              "      <th>4</th>\n",
              "      <td>: Ciudad Solar es uno de los ejes de Nuestro P...</td>\n",
              "      <td>0.0</td>\n",
              "      <td>0.0</td>\n",
              "      <td>Neutral</td>\n",
              "    </tr>\n",
              "    <tr>\n",
              "      <th>...</th>\n",
              "      <td>...</td>\n",
              "      <td>...</td>\n",
              "      <td>...</td>\n",
              "      <td>...</td>\n",
              "    </tr>\n",
              "    <tr>\n",
              "      <th>495</th>\n",
              "      <td>: Subsecretario de Energía  inaugura proyecto ...</td>\n",
              "      <td>0.0</td>\n",
              "      <td>0.0</td>\n",
              "      <td>Neutral</td>\n",
              "    </tr>\n",
              "    <tr>\n",
              "      <th>496</th>\n",
              "      <td>: Subsecretario de Energía  inaugura proyecto ...</td>\n",
              "      <td>0.0</td>\n",
              "      <td>0.0</td>\n",
              "      <td>Neutral</td>\n",
              "    </tr>\n",
              "    <tr>\n",
              "      <th>497</th>\n",
              "      <td>: Subsecretario de Energía  inaugura proyecto ...</td>\n",
              "      <td>0.0</td>\n",
              "      <td>0.0</td>\n",
              "      <td>Neutral</td>\n",
              "    </tr>\n",
              "    <tr>\n",
              "      <th>498</th>\n",
              "      <td>: Lugares en Adjuntas urbano que gozan de ener...</td>\n",
              "      <td>0.0</td>\n",
              "      <td>0.0</td>\n",
              "      <td>Neutral</td>\n",
              "    </tr>\n",
              "    <tr>\n",
              "      <th>499</th>\n",
              "      <td>Subsecretario de Energía  inaugura proyecto de...</td>\n",
              "      <td>0.0</td>\n",
              "      <td>0.0</td>\n",
              "      <td>Neutral</td>\n",
              "    </tr>\n",
              "  </tbody>\n",
              "</table>\n",
              "<p>500 rows × 4 columns</p>\n",
              "</div>"
            ],
            "text/plain": [
              "                                                Tweets  ...  Analisis\n",
              "0    : Gracias por este premio Nacional de Economía...  ...   Neutral\n",
              "1    : Ciudad Solar es uno de los ejes de Nuestro P...  ...   Neutral\n",
              "2    : Ciudad Solar es uno de los ejes de Nuestro P...  ...   Neutral\n",
              "3    _Villeda: Los costos de la energía solar fotov...  ...   Neutral\n",
              "4    : Ciudad Solar es uno de los ejes de Nuestro P...  ...   Neutral\n",
              "..                                                 ...  ...       ...\n",
              "495  : Subsecretario de Energía  inaugura proyecto ...  ...   Neutral\n",
              "496  : Subsecretario de Energía  inaugura proyecto ...  ...   Neutral\n",
              "497  : Subsecretario de Energía  inaugura proyecto ...  ...   Neutral\n",
              "498  : Lugares en Adjuntas urbano que gozan de ener...  ...   Neutral\n",
              "499  Subsecretario de Energía  inaugura proyecto de...  ...   Neutral\n",
              "\n",
              "[500 rows x 4 columns]"
            ]
          },
          "metadata": {
            "tags": []
          },
          "execution_count": 48
        }
      ]
    },
    {
      "cell_type": "code",
      "metadata": {
        "colab": {
          "base_uri": "https://localhost:8080/"
        },
        "id": "WLesCLppqD-A",
        "outputId": "e47312f0-e3e8-4ce8-df8e-418f946342db"
      },
      "source": [
        "#Porcentaje de Tweets Positivos\n",
        "ntweets = tweets[tweets.Analisis == 'Positivo']\n",
        "ntweets = ntweets['Tweets']\n",
        "ntweets\n",
        "\n",
        "round( (ntweets.shape[0] / tweets.shape[0]) * 100, 1)"
      ],
      "execution_count": 49,
      "outputs": [
        {
          "output_type": "execute_result",
          "data": {
            "text/plain": [
              "1.0"
            ]
          },
          "metadata": {
            "tags": []
          },
          "execution_count": 49
        }
      ]
    },
    {
      "cell_type": "code",
      "metadata": {
        "colab": {
          "base_uri": "https://localhost:8080/"
        },
        "id": "act4i618qDQT",
        "outputId": "2c8b56fe-ed56-4a58-dc68-aee659c63bf7"
      },
      "source": [
        "#Porcentaje de Tweets Negativos\n",
        "# Print the percentage of negative tweets\n",
        "ntweets = tweets[tweets.Analisis == 'Negativo']\n",
        "ntweets = ntweets['Tweets']\n",
        "ntweets\n",
        "\n",
        "round( (ntweets.shape[0] / tweets.shape[0]) * 100, 1)"
      ],
      "execution_count": 50,
      "outputs": [
        {
          "output_type": "execute_result",
          "data": {
            "text/plain": [
              "0.2"
            ]
          },
          "metadata": {
            "tags": []
          },
          "execution_count": 50
        }
      ]
    },
    {
      "cell_type": "code",
      "metadata": {
        "colab": {
          "base_uri": "https://localhost:8080/"
        },
        "id": "uI8bNrqAqFio",
        "outputId": "438bb429-c478-4f06-fa58-43d4c42c1dd3"
      },
      "source": [
        "#Porcentaje de Tweets Neutros\n",
        "ntweets = tweets[tweets.Analisis == 'Neutral']\n",
        "ntweets = ntweets['Tweets']\n",
        "ntweets\n",
        "\n",
        "round( (ntweets.shape[0] / tweets.shape[0]) * 100, 1)"
      ],
      "execution_count": 51,
      "outputs": [
        {
          "output_type": "execute_result",
          "data": {
            "text/plain": [
              "98.8"
            ]
          },
          "metadata": {
            "tags": []
          },
          "execution_count": 51
        }
      ]
    }
  ]
}